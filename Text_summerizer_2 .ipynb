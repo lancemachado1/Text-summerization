{
 "cells": [
  {
   "cell_type": "markdown",
   "id": "639ecad8",
   "metadata": {},
   "source": [
    "### Importing all required packages"
   ]
  },
  {
   "cell_type": "code",
   "execution_count": 1,
   "id": "cd3e39a5",
   "metadata": {},
   "outputs": [],
   "source": [
    "import numpy as np\n",
    "import pandas as pd\n",
    "import nltk\n",
    "from nltk.tokenize import sent_tokenize\n",
    "from nltk.corpus import stopwords\n",
    "from nltk.cluster.util import cosine_distance\n",
    "from nltk.translate.bleu_score import sentence_bleu\n",
    "import networkx as nx\n",
    "import matplotlib.pyplot as plt\n",
    "import re"
   ]
  },
  {
   "cell_type": "code",
   "execution_count": 2,
   "id": "2772c3cb",
   "metadata": {},
   "outputs": [],
   "source": [
    "import pickle"
   ]
  },
  {
   "cell_type": "code",
   "execution_count": 3,
   "id": "65937522",
   "metadata": {},
   "outputs": [],
   "source": [
    "import PyPDF2 as pdf"
   ]
  },
  {
   "cell_type": "markdown",
   "id": "fa44f0f9",
   "metadata": {},
   "source": [
    "### Data Collection & Cleaning"
   ]
  },
  {
   "cell_type": "code",
   "execution_count": 4,
   "id": "6e971828",
   "metadata": {},
   "outputs": [],
   "source": [
    "import os\n",
    " \n",
    "# Get the list of all files and directories\n",
    "path = \"C://Users//Lance Machado//Desktop//DSA Projects//NLP Project\"\n",
    "dir_list = os.listdir(path)\n",
    "\n",
    "# Get Relevent document from directory\n",
    "doc_list = []\n",
    "for x in dir_list:\n",
    "    if re.match(r'.*pdf$',x):\n",
    "        doc_list.append(x)"
   ]
  },
  {
   "cell_type": "code",
   "execution_count": 9,
   "id": "7dca07bc",
   "metadata": {},
   "outputs": [
    {
     "data": {
      "text/plain": [
       "['IRJET-V4I5105.pdf',\n",
       " 'IRJET-V5I4978.pdf',\n",
       " 'IRJET-V6I330.pdf',\n",
       " 'IRJET-V6I5768.pdf',\n",
       " 'IRJET-V7I1238.pdf',\n",
       " 'IRJET-V7I5186.pdf',\n",
       " 'IRJET-V7I7379.pdf',\n",
       " 'IRJET-V8I12173.pdf',\n",
       " 'IRJET-V8I3540.pdf']"
      ]
     },
     "execution_count": 9,
     "metadata": {},
     "output_type": "execute_result"
    }
   ],
   "source": [
    "doc_list"
   ]
  },
  {
   "cell_type": "markdown",
   "id": "ccf436fc",
   "metadata": {},
   "source": [
    "### Creating Data-set "
   ]
  },
  {
   "cell_type": "code",
   "execution_count": 11,
   "id": "e76f27a1",
   "metadata": {},
   "outputs": [
    {
     "name": "stderr",
     "output_type": "stream",
     "text": [
      "PdfReadWarning: Xref table not zero-indexed. ID numbers for objects will be corrected. [pdf.py:1736]\n"
     ]
    }
   ],
   "source": [
    "# fetching & segregation of text data.\n",
    "summary = []\n",
    "document = []\n",
    "\n",
    "for name in doc_list:\n",
    "    file = open(name,mode='rb')\n",
    "    doc = pdf.PdfFileReader(file)\n",
    "    nos = doc.getNumPages()\n",
    "    pg = ''\n",
    "    contents = ''\n",
    "\n",
    "    for x in range(nos):\n",
    "        page = doc.getPage(x)\n",
    "        pg = page.extractText()\n",
    "        contents = contents + pg\n",
    "    \n",
    "    text = re.sub('\\n','',contents)\n",
    "\n",
    "    # creating search patterns to segregate the data.\n",
    "    start_of_summary = re.compile(r'abstr[act]',re.IGNORECASE)\n",
    "    end_of_summary = re.compile(r'introd[uction]',re.IGNORECASE)\n",
    "    ref_doc = re.compile(r'references',re.IGNORECASE)\n",
    "\n",
    "    abs_match = start_of_summary.search(text)\n",
    "    intro_match = end_of_summary.search(text)\n",
    "    ref_match = ref_doc.search(text)\n",
    "\n",
    "    # Getting the range to segregate the text according to summary and complete document.\n",
    "    abstract_start = abs_match.span()\n",
    "    intro_start = intro_match.span()\n",
    "    ref_start = ref_match.span()\n",
    "\n",
    "    # Abstract for evaluation\n",
    "    abstract = text[abstract_start[0]:intro_start[0]]\n",
    "\n",
    "    # Main body of the document\n",
    "    body = text[intro_start[0]:ref_start[0]]\n",
    "\n",
    "    # Removing repetative patterns from the document\n",
    "    body = re.sub(r'\\s{2,}','',body)\n",
    "    body = re.sub(r'International Research Journal of Engineering and Technology',\n",
    "           '',body,re.IGNORECASE)\n",
    "    body = re.sub(r'Page\\s\\d{1,4}','',body,re.IGNORECASE)\n",
    "    \n",
    "    summary.append(abstract)\n",
    "    document.append(body)"
   ]
  },
  {
   "cell_type": "code",
   "execution_count": 12,
   "id": "8fe47910",
   "metadata": {},
   "outputs": [],
   "source": [
    "def text_cleaner(body):\n",
    "    body = re.sub(r'\\s{2,}',' ',body)\n",
    "    body = re.sub(r'International Research Journal of Engineering and Technology',\n",
    "           '',body,re.IGNORECASE)\n",
    "    body = re.sub(r'.IRJET.','',body)\n",
    "    body = re.sub(r'Page\\s\\d{1,4}','',body,re.IGNORECASE)\n",
    "    body = re.sub(r'INTRODUCTION','',body)\n",
    "    body = re.sub(r'www.irjet.net','',body)\n",
    "    body = re.sub(r'(\\w{3}-\\d{4})','',body)         #Apr-2008\n",
    "    body = re.sub(r'(\\w{3}\\s\\d{4}:\\d{4})','',body)  #ISO 9001:2008\n",
    "    body = re.sub(r'Certified Journal','',body)     #Certified Journal\n",
    "    body = re.sub(r'(\\w{3}-\\d{1,3}:)','',body)      #Fig-2:\n",
    "    body = re.sub(r'(Impact Factor value)','',body) #Impact Factor value\n",
    "    body = re.sub(r'\\d{4}','',body)                 #year\n",
    "    body = re.sub(r'\\d{1}','',body)\n",
    "    body = re.sub(r'e-ISSN\\:\\s\\d{4}-\\d{4}','',body) #e-ISSN: 2395-0056\n",
    "    body = re.sub(r'p-ISSN\\:\\s\\d{4}-\\d{4}','',body) #p-ISSN: 2395-0056\n",
    "    body = re.sub(r'Volume\\:','',body) \n",
    "    body = re.sub(r'Issue\\:','',body) \n",
    "    body = re.sub(r'\\|','',body)\n",
    "    body = re.sub(r'\\s{2,}',' ',body)\n",
    "    \n",
    "    return body"
   ]
  },
  {
   "cell_type": "code",
   "execution_count": 13,
   "id": "800df47a",
   "metadata": {},
   "outputs": [],
   "source": [
    "# fetching & segregation of text data.\n",
    "summary = []\n",
    "document = []\n",
    "\n",
    "for name in doc_list:\n",
    "    file = open(name,mode='rb')\n",
    "    doc = pdf.PdfFileReader(file)\n",
    "    nos = doc.getNumPages()\n",
    "    pg = ''\n",
    "    contents = ''\n",
    "\n",
    "    for x in range(nos):\n",
    "        page = doc.getPage(x)\n",
    "        pg = page.extractText()\n",
    "        contents = contents + pg\n",
    "    \n",
    "    text = re.sub('\\n','',contents)\n",
    "\n",
    "    # creating search patterns to segregate the data.\n",
    "    start_of_summary = re.compile(r'abstr[act]',re.IGNORECASE)\n",
    "    end_of_summary = re.compile(r'introd[uction]',re.IGNORECASE)\n",
    "    ref_doc = re.compile(r'references',re.IGNORECASE)\n",
    "\n",
    "    abs_match = start_of_summary.search(text)\n",
    "    intro_match = end_of_summary.search(text)\n",
    "    ref_match = ref_doc.search(text)\n",
    "\n",
    "    # Getting the range to segregate the text according to summary and complete document.\n",
    "    abstract_start = abs_match.span()\n",
    "    intro_start = intro_match.span()\n",
    "    ref_start = ref_match.span()\n",
    "\n",
    "    # Abstract for evaluation\n",
    "    abstract = text[abstract_start[0]:intro_start[0]]\n",
    "    abstract = re.sub(r'Abstract|ABSTRACT|ABSTRCT','',abstract,re.I)\n",
    "    \n",
    "    # Main body of the document\n",
    "    body = text[intro_start[0]:ref_start[0]]\n",
    "\n",
    "    # Removing repetative patterns from the document\n",
    "    body = text_cleaner(body)\n",
    "    \n",
    "    summary.append(abstract)\n",
    "    document.append(body)"
   ]
  },
  {
   "cell_type": "code",
   "execution_count": 14,
   "id": "4083565a",
   "metadata": {},
   "outputs": [],
   "source": [
    "df = pd.DataFrame()\n",
    "df[\"document\"] = document\n",
    "df[\"summary\"] = summary"
   ]
  },
  {
   "cell_type": "code",
   "execution_count": 15,
   "id": "28d546d7",
   "metadata": {},
   "outputs": [
    {
     "data": {
      "text/html": [
       "<div>\n",
       "<style scoped>\n",
       "    .dataframe tbody tr th:only-of-type {\n",
       "        vertical-align: middle;\n",
       "    }\n",
       "\n",
       "    .dataframe tbody tr th {\n",
       "        vertical-align: top;\n",
       "    }\n",
       "\n",
       "    .dataframe thead th {\n",
       "        text-align: right;\n",
       "    }\n",
       "</style>\n",
       "<table border=\"1\" class=\"dataframe\">\n",
       "  <thead>\n",
       "    <tr style=\"text-align: right;\">\n",
       "      <th></th>\n",
       "      <th>document</th>\n",
       "      <th>summary</th>\n",
       "    </tr>\n",
       "  </thead>\n",
       "  <tbody>\n",
       "    <tr>\n",
       "      <th>0</th>\n",
       "      <td>Robotics plays very vital role in various fie...</td>\n",
       "      <td>- The home robotics is an evolution of the ex...</td>\n",
       "    </tr>\n",
       "    <tr>\n",
       "      <th>1</th>\n",
       "      <td>New advances are landing in this world. Numer...</td>\n",
       "      <td>- This paper centers around utilization of el...</td>\n",
       "    </tr>\n",
       "    <tr>\n",
       "      <th>2</th>\n",
       "      <td>Robotics is a technology which is used to dev...</td>\n",
       "      <td>Robots are rapidly developing from factory t...</td>\n",
       "    </tr>\n",
       "    <tr>\n",
       "      <th>3</th>\n",
       "      <td>Electromagnetic brakes (also called electro-m...</td>\n",
       "      <td>- This project aims to create an electromagne...</td>\n",
       "    </tr>\n",
       "    <tr>\n",
       "      <th>4</th>\n",
       "      <td>Electromagnetic brakes have been used as supp...</td>\n",
       "      <td>: The traditional way to change a  tire is to ...</td>\n",
       "    </tr>\n",
       "    <tr>\n",
       "      <th>5</th>\n",
       "      <td>.. Brake A vehicle brake is used to slow down...</td>\n",
       "      <td>This principle of braking road vehicles in t...</td>\n",
       "    </tr>\n",
       "    <tr>\n",
       "      <th>6</th>\n",
       "      <td>Magnetic brakes (also called eddy current bra...</td>\n",
       "      <td>: MOST OF BRAKING SYSTEM RUN ON THE PRINCIPLE ...</td>\n",
       "    </tr>\n",
       "    <tr>\n",
       "      <th>7</th>\n",
       "      <td>Brakes are a widely used tool to slow down th...</td>\n",
       "      <td>- Electromagnetic brakes may be new and flexi...</td>\n",
       "    </tr>\n",
       "    <tr>\n",
       "      <th>8</th>\n",
       "      <td>Brakes are the device which are wont to retar...</td>\n",
       "      <td>- An electromagnetic brake may be a new and r...</td>\n",
       "    </tr>\n",
       "  </tbody>\n",
       "</table>\n",
       "</div>"
      ],
      "text/plain": [
       "                                            document  \\\n",
       "0   Robotics plays very vital role in various fie...   \n",
       "1   New advances are landing in this world. Numer...   \n",
       "2   Robotics is a technology which is used to dev...   \n",
       "3   Electromagnetic brakes (also called electro-m...   \n",
       "4   Electromagnetic brakes have been used as supp...   \n",
       "5   .. Brake A vehicle brake is used to slow down...   \n",
       "6   Magnetic brakes (also called eddy current bra...   \n",
       "7   Brakes are a widely used tool to slow down th...   \n",
       "8   Brakes are the device which are wont to retar...   \n",
       "\n",
       "                                             summary  \n",
       "0   - The home robotics is an evolution of the ex...  \n",
       "1   - This paper centers around utilization of el...  \n",
       "2    Robots are rapidly developing from factory t...  \n",
       "3   - This project aims to create an electromagne...  \n",
       "4  : The traditional way to change a  tire is to ...  \n",
       "5    This principle of braking road vehicles in t...  \n",
       "6  : MOST OF BRAKING SYSTEM RUN ON THE PRINCIPLE ...  \n",
       "7   - Electromagnetic brakes may be new and flexi...  \n",
       "8   - An electromagnetic brake may be a new and r...  "
      ]
     },
     "execution_count": 15,
     "metadata": {},
     "output_type": "execute_result"
    }
   ],
   "source": [
    "df"
   ]
  },
  {
   "cell_type": "code",
   "execution_count": 16,
   "id": "25c6137c",
   "metadata": {},
   "outputs": [
    {
     "data": {
      "image/png": "[encoded data removed]",
      "text/plain": [
       "<Figure size 432x288 with 2 Axes>"
      ]
     },
     "metadata": {
      "needs_background": "light"
     },
     "output_type": "display_data"
    }
   ],
   "source": [
    "import matplotlib.pyplot as plt\n",
    "\n",
    "text_word_count = []\n",
    "summary_word_count = []\n",
    "\n",
    "# populate the lists with sentence lengths\n",
    "for i in df['document']:\n",
    "      text_word_count.append(len(i.split()))\n",
    "\n",
    "for i in df['summary']:\n",
    "      summary_word_count.append(len(i.split()))\n",
    "\n",
    "length_df = pd.DataFrame({'text':text_word_count, 'summary':summary_word_count})\n",
    "\n",
    "length_df.hist(bins = 5)\n",
    "plt.show()"
   ]
  },
  {
   "cell_type": "markdown",
   "id": "ee0a37d1",
   "metadata": {},
   "source": [
    "### Extractive Text Summerization"
   ]
  },
  {
   "cell_type": "code",
   "execution_count": 17,
   "id": "c539ced6",
   "metadata": {},
   "outputs": [],
   "source": [
    "def read_doc_text(doc_text):\n",
    "    article = doc_text.split(\". \")\n",
    "    sentences = []\n",
    "\n",
    "    for sentence in article:\n",
    "        sentences.append(sentence.replace(\"[^a-zA-Z]\", \" \").split(\" \"))\n",
    "    sentences.pop() \n",
    "    return sentences"
   ]
  },
  {
   "cell_type": "code",
   "execution_count": 23,
   "id": "263d4e68",
   "metadata": {},
   "outputs": [],
   "source": [
    "def create_similarity_matrix(sentences, stop_words):\n",
    "    \n",
    "    # Creating an empty similarity matrix\n",
    "    similarity_matrix = np.zeros((len(sentences), len(sentences)))\n",
    " \n",
    "    for index1 in range(len(sentences)):      \n",
    "        for index2 in range(len(sentences)):\n",
    "            if index1 == index2: #ignore if both are same sentences                \n",
    "                continue \n",
    "                \n",
    "            similarity_matrix[index1][index2] = sentence_similarity(sentences[index1],\n",
    "                                                                    sentences[index2],\n",
    "                                                                    stop_words)\n",
    "                       \n",
    "    return similarity_matrix"
   ]
  },
  {
   "cell_type": "code",
   "execution_count": 24,
   "id": "5da75568",
   "metadata": {},
   "outputs": [],
   "source": [
    "def sentence_similarity(sent1, sent2, stopwords=None):\n",
    "    if stopwords is None:\n",
    "        stopwords = []\n",
    " \n",
    "    sent1 = [w.lower() for w in sent1]\n",
    "    sent2 = [w.lower() for w in sent2]\n",
    " \n",
    "    all_words = list(set(sent1 + sent2))\n",
    "    \n",
    "    vector1 = [0] * len(all_words)\n",
    "    vector2 = [0] * len(all_words)\n",
    " \n",
    "    # build the vector for the first sentence\n",
    "    for w in sent1:\n",
    "        if w in stopwords:\n",
    "            continue\n",
    "        \n",
    "        vector1[all_words.index(w)] += 1\n",
    "        \n",
    " \n",
    "    # build the vector for the second sentence\n",
    "    for w in sent2:\n",
    "        if w in stopwords:\n",
    "            continue\n",
    "        vector2[all_words.index(w)] += 1\n",
    "                    \n",
    "    return (1 - cosine_distance(vector1, vector2))"
   ]
  },
  {
   "cell_type": "code",
   "execution_count": 25,
   "id": "7e2b63b9",
   "metadata": {},
   "outputs": [],
   "source": [
    "def text_summary(doc_text, top_n=6):\n",
    "    stop_words = stopwords.words('english')\n",
    "    summarize_text = []\n",
    "\n",
    "    # Reading text and spliting it to setences.\n",
    "    sentences =  read_doc_text(doc_text)\n",
    "\n",
    "    # Generate Similary Martix across sentences\n",
    "    sentence_similarity_martix = create_similarity_matrix(sentences, stop_words)\n",
    "    \n",
    "    # Rank sentences in similarity martix\n",
    "    sentence_similarity_graph = nx.from_numpy_array(sentence_similarity_martix)\n",
    "\n",
    "    # score is dictionary with key = node and value is its rank\n",
    "    scores = nx.pagerank(sentence_similarity_graph)\n",
    "\n",
    "    # Sort the rank and pick top sentences\n",
    "    ranked_sentence = sorted(((scores[i],s) for i,s in enumerate(sentences)), reverse=True)    \n",
    "    \n",
    "    for i in range(top_n):\n",
    "      summarize_text.append(\" \".join(ranked_sentence[i][1]))\n",
    "    print(\". \".join(summarize_text))"
   ]
  },
  {
   "cell_type": "markdown",
   "id": "32a56158",
   "metadata": {},
   "source": [
    "### Evaluating the results"
   ]
  },
  {
   "cell_type": "code",
   "execution_count": 29,
   "id": "1fdb202e",
   "metadata": {},
   "outputs": [
    {
     "name": "stdout",
     "output_type": "stream",
     "text": [
      "The main principle of electromagnetic brake to induced kinetic energy into heat energy and this type brake mainly working principle is one rotating metal disc in between the two magnets to apply the brake to induced electric current in circuit to induced magnetic field in armature to attract the magnet to the rotating metal disc and stopped the rotation in several time while applied brake. Solenoid is the coil having more no of turns and it is used to produce high strength magnetic field which is used in this Electromagnetic Braking.  Electromagnetic brakes have been used as supplementary retardation equipment in addition to the regular friction brakes on heavy vehicles. RESULTS By using the electromagnetic brake as supplementary retardation equipment, the friction brakes can be used less frequently, and therefore practically never reach high temperatures. Bearing Electromagnet An electromagnet is a type of magnet in which the magnetic field is produced by an electric current. In addition, it is found that electromagnetic brakes make up approximately % of all of the power applied brake applications\n"
     ]
    }
   ],
   "source": [
    "txt_summary = str(text_summary(df.iat[4,0]))"
   ]
  },
  {
   "cell_type": "code",
   "execution_count": 32,
   "id": "55a920e4",
   "metadata": {},
   "outputs": [
    {
     "data": {
      "text/plain": [
       "': The traditional way to change a  tire is to loosen the lug nuts one by one with the help of wheel spanner. However, it is exhausting and time consuming in car service centers and workshops. Hence, in this project to we are incorporating sun and planetary gear mechanism to remove all 4 lug nuts of the care wheel simultaneously with the help of primary power source. An adjustable Multi-nut remover or tighter for car tire is designed to change a  wheel by driving a planetary gear mechanism with a single motor in which all 4 lug nuts can be simultaneously be loosened or tightened, the pitch circle diameter for different model and variants of car is adjusted by Four-jaw self centering chuck mechanism. The machine can be used for tightening or loosening of lug nuts of 3 different models of car by using a keypad remote. The machine is expected to be 40% more efficient than the traditional method of loosening or tightening of the lug nuts.  1. '"
      ]
     },
     "execution_count": 32,
     "metadata": {},
     "output_type": "execute_result"
    }
   ],
   "source": [
    "df.iat[4,1]"
   ]
  },
  {
   "cell_type": "code",
   "execution_count": 31,
   "id": "02f6f1b1",
   "metadata": {},
   "outputs": [
    {
     "name": "stdout",
     "output_type": "stream",
     "text": [
      "BLEU score for test-> 0\n"
     ]
    }
   ],
   "source": [
    "ref = [df.iat[4,1].split()]\n",
    "test = txt_summary.split()\n",
    "print('BLEU score for test-> {}'.format(sentence_bleu(ref, test)))"
   ]
  },
  {
   "cell_type": "markdown",
   "id": "3c69d00a",
   "metadata": {},
   "source": [
    "### Abstractive Summerizer Simpletransformers"
   ]
  },
  {
   "cell_type": "code",
   "execution_count": 33,
   "id": "4ac90894",
   "metadata": {},
   "outputs": [],
   "source": [
    "from simpletransformers.seq2seq import Seq2SeqModel,Seq2SeqArgs"
   ]
  },
  {
   "cell_type": "code",
   "execution_count": 24,
   "id": "afc51d94",
   "metadata": {},
   "outputs": [],
   "source": [
    "model_args = Seq2SeqArgs()\n",
    "model_args.num_train_epochs = 4\n",
    "model_args.no_save = True\n",
    "model_args.max_length = 100\n",
    "model_args.evaluate_generated_text = True\n",
    "model_args.evaluate_during_training = True\n",
    "model_args.evaluate_during_training_verbose = True\n",
    "model_args.overwrite_output_dir = True\n",
    "\n",
    "# Initialize model\n",
    "model = Seq2SeqModel(\n",
    "    encoder_decoder_type=\"bart\",\n",
    "    encoder_decoder_name=\"facebook/bart-large\",\n",
    "    args=model_args,\n",
    "    use_cuda=False,\n",
    ")"
   ]
  },
  {
   "cell_type": "code",
   "execution_count": 25,
   "id": "a823fd97",
   "metadata": {},
   "outputs": [],
   "source": [
    "df1 = df.rename({'document':'input_text','summary':'target_text'},axis=1)"
   ]
  },
  {
   "cell_type": "code",
   "execution_count": 26,
   "id": "859c283c",
   "metadata": {},
   "outputs": [],
   "source": [
    "train_df = df1[0:7]\n",
    "test_df = df1[7:]"
   ]
  },
  {
   "cell_type": "code",
   "execution_count": 27,
   "id": "64962d5a",
   "metadata": {},
   "outputs": [
    {
     "data": {
      "text/html": [
       "<div>\n",
       "<style scoped>\n",
       "    .dataframe tbody tr th:only-of-type {\n",
       "        vertical-align: middle;\n",
       "    }\n",
       "\n",
       "    .dataframe tbody tr th {\n",
       "        vertical-align: top;\n",
       "    }\n",
       "\n",
       "    .dataframe thead th {\n",
       "        text-align: right;\n",
       "    }\n",
       "</style>\n",
       "<table border=\"1\" class=\"dataframe\">\n",
       "  <thead>\n",
       "    <tr style=\"text-align: right;\">\n",
       "      <th></th>\n",
       "      <th>input_text</th>\n",
       "      <th>target_text</th>\n",
       "    </tr>\n",
       "  </thead>\n",
       "  <tbody>\n",
       "    <tr>\n",
       "      <th>0</th>\n",
       "      <td>Robotics plays very vital role in various fie...</td>\n",
       "      <td>- The home robotics is an evolution of the ex...</td>\n",
       "    </tr>\n",
       "    <tr>\n",
       "      <th>1</th>\n",
       "      <td>New advances are landing in this world. Numer...</td>\n",
       "      <td>- This paper centers around utilization of el...</td>\n",
       "    </tr>\n",
       "    <tr>\n",
       "      <th>2</th>\n",
       "      <td>Robotics is a technology which is used to dev...</td>\n",
       "      <td>Robots are rapidly developing from factory t...</td>\n",
       "    </tr>\n",
       "    <tr>\n",
       "      <th>3</th>\n",
       "      <td>Electromagnetic brakes (also called electro-m...</td>\n",
       "      <td>- This project aims to create an electromagne...</td>\n",
       "    </tr>\n",
       "    <tr>\n",
       "      <th>4</th>\n",
       "      <td>Electromagnetic brakes have been used as supp...</td>\n",
       "      <td>: The traditional way to change a  tire is to ...</td>\n",
       "    </tr>\n",
       "    <tr>\n",
       "      <th>5</th>\n",
       "      <td>.. Brake A vehicle brake is used to slow down...</td>\n",
       "      <td>This principle of braking road vehicles in t...</td>\n",
       "    </tr>\n",
       "    <tr>\n",
       "      <th>6</th>\n",
       "      <td>Magnetic brakes (also called eddy current bra...</td>\n",
       "      <td>: MOST OF BRAKING SYSTEM RUN ON THE PRINCIPLE ...</td>\n",
       "    </tr>\n",
       "  </tbody>\n",
       "</table>\n",
       "</div>"
      ],
      "text/plain": [
       "                                          input_text  \\\n",
       "0   Robotics plays very vital role in various fie...   \n",
       "1   New advances are landing in this world. Numer...   \n",
       "2   Robotics is a technology which is used to dev...   \n",
       "3   Electromagnetic brakes (also called electro-m...   \n",
       "4   Electromagnetic brakes have been used as supp...   \n",
       "5   .. Brake A vehicle brake is used to slow down...   \n",
       "6   Magnetic brakes (also called eddy current bra...   \n",
       "\n",
       "                                         target_text  \n",
       "0   - The home robotics is an evolution of the ex...  \n",
       "1   - This paper centers around utilization of el...  \n",
       "2    Robots are rapidly developing from factory t...  \n",
       "3   - This project aims to create an electromagne...  \n",
       "4  : The traditional way to change a  tire is to ...  \n",
       "5    This principle of braking road vehicles in t...  \n",
       "6  : MOST OF BRAKING SYSTEM RUN ON THE PRINCIPLE ...  "
      ]
     },
     "execution_count": 27,
     "metadata": {},
     "output_type": "execute_result"
    }
   ],
   "source": [
    "train_df"
   ]
  },
  {
   "cell_type": "code",
   "execution_count": 28,
   "id": "95626af7",
   "metadata": {},
   "outputs": [
    {
     "data": {
      "text/html": [
       "<div>\n",
       "<style scoped>\n",
       "    .dataframe tbody tr th:only-of-type {\n",
       "        vertical-align: middle;\n",
       "    }\n",
       "\n",
       "    .dataframe tbody tr th {\n",
       "        vertical-align: top;\n",
       "    }\n",
       "\n",
       "    .dataframe thead th {\n",
       "        text-align: right;\n",
       "    }\n",
       "</style>\n",
       "<table border=\"1\" class=\"dataframe\">\n",
       "  <thead>\n",
       "    <tr style=\"text-align: right;\">\n",
       "      <th></th>\n",
       "      <th>input_text</th>\n",
       "      <th>target_text</th>\n",
       "    </tr>\n",
       "  </thead>\n",
       "  <tbody>\n",
       "    <tr>\n",
       "      <th>7</th>\n",
       "      <td>Brakes are a widely used tool to slow down th...</td>\n",
       "      <td>- Electromagnetic brakes may be new and flexi...</td>\n",
       "    </tr>\n",
       "    <tr>\n",
       "      <th>8</th>\n",
       "      <td>Brakes are the device which are wont to retar...</td>\n",
       "      <td>- An electromagnetic brake may be a new and r...</td>\n",
       "    </tr>\n",
       "  </tbody>\n",
       "</table>\n",
       "</div>"
      ],
      "text/plain": [
       "                                          input_text  \\\n",
       "7   Brakes are a widely used tool to slow down th...   \n",
       "8   Brakes are the device which are wont to retar...   \n",
       "\n",
       "                                         target_text  \n",
       "7   - Electromagnetic brakes may be new and flexi...  \n",
       "8   - An electromagnetic brake may be a new and r...  "
      ]
     },
     "execution_count": 28,
     "metadata": {},
     "output_type": "execute_result"
    }
   ],
   "source": [
    "test_df"
   ]
  },
  {
   "cell_type": "code",
   "execution_count": 29,
   "id": "9e18c5be",
   "metadata": {},
   "outputs": [
    {
     "data": {
      "application/vnd.jupyter.widget-view+json": {
       "model_id": "6e5b491364bf43cc9225c42f273d21e0",
       "version_major": 2,
       "version_minor": 0
      },
      "text/plain": [
       "  0%|          | 0/7 [00:00<?, ?it/s]"
      ]
     },
     "metadata": {},
     "output_type": "display_data"
    },
    {
     "name": "stderr",
     "output_type": "stream",
     "text": [
      "FutureWarning: This implementation of AdamW is deprecated and will be removed in a future version. Use thePyTorch implementation torch.optim.AdamW instead, or set `no_deprecation_warning=True` to disable this warning [optimization.py:306]\n"
     ]
    },
    {
     "data": {
      "application/vnd.jupyter.widget-view+json": {
       "model_id": "44798054fc2f48f3a47f3837478f58b3",
       "version_major": 2,
       "version_minor": 0
      },
      "text/plain": [
       "Epoch:   0%|          | 0/4 [00:00<?, ?it/s]"
      ]
     },
     "metadata": {},
     "output_type": "display_data"
    },
    {
     "data": {
      "application/vnd.jupyter.widget-view+json": {
       "model_id": "bfb883ee916443ae96b427394f0c1bdd",
       "version_major": 2,
       "version_minor": 0
      },
      "text/plain": [
       "Running Epoch 0 of 4:   0%|          | 0/1 [00:00<?, ?it/s]"
      ]
     },
     "metadata": {},
     "output_type": "display_data"
    },
    {
     "data": {
      "application/vnd.jupyter.widget-view+json": {
       "model_id": "c190bc72ee8146469fce1f6d4d925f2f",
       "version_major": 2,
       "version_minor": 0
      },
      "text/plain": [
       "  0%|          | 0/2 [00:00<?, ?it/s]"
      ]
     },
     "metadata": {},
     "output_type": "display_data"
    },
    {
     "data": {
      "application/vnd.jupyter.widget-view+json": {
       "model_id": "2c5b0836558f4aa19911a99ffc9b094b",
       "version_major": 2,
       "version_minor": 0
      },
      "text/plain": [
       "Generating outputs:   0%|          | 0/1 [00:00<?, ?it/s]"
      ]
     },
     "metadata": {},
     "output_type": "display_data"
    },
    {
     "data": {
      "application/vnd.jupyter.widget-view+json": {
       "model_id": "683eac5f511740e3a2b0ef007c241e7d",
       "version_major": 2,
       "version_minor": 0
      },
      "text/plain": [
       "Running Epoch 1 of 4:   0%|          | 0/1 [00:00<?, ?it/s]"
      ]
     },
     "metadata": {},
     "output_type": "display_data"
    },
    {
     "data": {
      "application/vnd.jupyter.widget-view+json": {
       "model_id": "607793cc095c4c54b385a014ef8d90c2",
       "version_major": 2,
       "version_minor": 0
      },
      "text/plain": [
       "  0%|          | 0/2 [00:00<?, ?it/s]"
      ]
     },
     "metadata": {},
     "output_type": "display_data"
    },
    {
     "data": {
      "application/vnd.jupyter.widget-view+json": {
       "model_id": "04361ff8e96b4a2eb137595f7cdb9873",
       "version_major": 2,
       "version_minor": 0
      },
      "text/plain": [
       "Generating outputs:   0%|          | 0/1 [00:00<?, ?it/s]"
      ]
     },
     "metadata": {},
     "output_type": "display_data"
    },
    {
     "data": {
      "application/vnd.jupyter.widget-view+json": {
       "model_id": "876409568fa748879c879a22abeab8c8",
       "version_major": 2,
       "version_minor": 0
      },
      "text/plain": [
       "Running Epoch 2 of 4:   0%|          | 0/1 [00:00<?, ?it/s]"
      ]
     },
     "metadata": {},
     "output_type": "display_data"
    },
    {
     "data": {
      "application/vnd.jupyter.widget-view+json": {
       "model_id": "6d05c4a235bc4fa88c8b7cb3bb871430",
       "version_major": 2,
       "version_minor": 0
      },
      "text/plain": [
       "  0%|          | 0/2 [00:00<?, ?it/s]"
      ]
     },
     "metadata": {},
     "output_type": "display_data"
    },
    {
     "data": {
      "application/vnd.jupyter.widget-view+json": {
       "model_id": "4fd192127fad439d92fc1f20babf2eeb",
       "version_major": 2,
       "version_minor": 0
      },
      "text/plain": [
       "Generating outputs:   0%|          | 0/1 [00:00<?, ?it/s]"
      ]
     },
     "metadata": {},
     "output_type": "display_data"
    },
    {
     "data": {
      "application/vnd.jupyter.widget-view+json": {
       "model_id": "ac232c92548f4d458925578dc520c992",
       "version_major": 2,
       "version_minor": 0
      },
      "text/plain": [
       "Running Epoch 3 of 4:   0%|          | 0/1 [00:00<?, ?it/s]"
      ]
     },
     "metadata": {},
     "output_type": "display_data"
    },
    {
     "data": {
      "application/vnd.jupyter.widget-view+json": {
       "model_id": "89cc6a8793144dd9a521d0c524033396",
       "version_major": 2,
       "version_minor": 0
      },
      "text/plain": [
       "  0%|          | 0/2 [00:00<?, ?it/s]"
      ]
     },
     "metadata": {},
     "output_type": "display_data"
    },
    {
     "data": {
      "application/vnd.jupyter.widget-view+json": {
       "model_id": "10cb6e34ae0842e29a785d0a44fd2072",
       "version_major": 2,
       "version_minor": 0
      },
      "text/plain": [
       "Generating outputs:   0%|          | 0/1 [00:00<?, ?it/s]"
      ]
     },
     "metadata": {},
     "output_type": "display_data"
    },
    {
     "data": {
      "text/plain": [
       "(4,\n",
       " {'global_step': [1, 2, 3, 4],\n",
       "  'eval_loss': [4.82901668548584,\n",
       "   3.6393508911132812,\n",
       "   3.536156415939331,\n",
       "   3.4960734844207764],\n",
       "  'train_loss': [7.652157783508301,\n",
       "   7.6750569343566895,\n",
       "   4.813510894775391,\n",
       "   4.485307216644287]})"
      ]
     },
     "execution_count": 29,
     "metadata": {},
     "output_type": "execute_result"
    }
   ],
   "source": [
    "# Train the model\n",
    "model.train_model(train_data=train_df, eval_data=test_df)"
   ]
  },
  {
   "cell_type": "code",
   "execution_count": 30,
   "id": "0fd8fa38",
   "metadata": {},
   "outputs": [
    {
     "data": {
      "application/vnd.jupyter.widget-view+json": {
       "model_id": "f5d511a64c8f4dd5bd521975b688ad46",
       "version_major": 2,
       "version_minor": 0
      },
      "text/plain": [
       "  0%|          | 0/2 [00:00<?, ?it/s]"
      ]
     },
     "metadata": {},
     "output_type": "display_data"
    },
    {
     "data": {
      "application/vnd.jupyter.widget-view+json": {
       "model_id": "da3f789deafb413c9622c373b08ca928",
       "version_major": 2,
       "version_minor": 0
      },
      "text/plain": [
       "Running Evaluation:   0%|          | 0/1 [00:00<?, ?it/s]"
      ]
     },
     "metadata": {},
     "output_type": "display_data"
    },
    {
     "data": {
      "application/vnd.jupyter.widget-view+json": {
       "model_id": "b382e47bbc8c4f4993951747f21d11c0",
       "version_major": 2,
       "version_minor": 0
      },
      "text/plain": [
       "Generating outputs:   0%|          | 0/1 [00:00<?, ?it/s]"
      ]
     },
     "metadata": {},
     "output_type": "display_data"
    }
   ],
   "source": [
    "# Evaluate the model\n",
    "results = model.eval_model(test_df)"
   ]
  },
  {
   "cell_type": "code",
   "execution_count": 31,
   "id": "9d5e0526",
   "metadata": {},
   "outputs": [
    {
     "data": {
      "text/plain": [
       "{'eval_loss': 3.4960734844207764}"
      ]
     },
     "execution_count": 31,
     "metadata": {},
     "output_type": "execute_result"
    }
   ],
   "source": [
    "results"
   ]
  },
  {
   "cell_type": "code",
   "execution_count": 32,
   "id": "0ee4b94d",
   "metadata": {},
   "outputs": [
    {
     "data": {
      "application/vnd.jupyter.widget-view+json": {
       "model_id": "dcf707efd4d54c79a91356f8aef74525",
       "version_major": 2,
       "version_minor": 0
      },
      "text/plain": [
       "Generating outputs:   0%|          | 0/1 [00:00<?, ?it/s]"
      ]
     },
     "metadata": {},
     "output_type": "display_data"
    },
    {
     "name": "stdout",
     "output_type": "stream",
     "text": [
      "['Introduction to the field of robotics. Robotics is a technology which is used to develop machines that can be a replacement for humans and replicate human actions[]. Robots are physical agents that perform tasks by manipulating the physical world. For this, they are equipped with effectors such as legs, wheels, joints and grippers. Effectors have a single purpose to assert physical forces on the environment. Effector are used to control the movement of the robot, and to control its speed and direction.']\n"
     ]
    }
   ],
   "source": [
    "# prediction\n",
    "print(model.predict([df.iat[2,0]]))"
   ]
  },
  {
   "cell_type": "code",
   "execution_count": 34,
   "id": "763b4374",
   "metadata": {},
   "outputs": [],
   "source": [
    "pickle.dump(model, open('model_summarizer.pkl','wb'))"
   ]
  },
  {
   "cell_type": "code",
   "execution_count": 34,
   "id": "cb5ff320",
   "metadata": {},
   "outputs": [],
   "source": [
    "model = pickle.load(open('model_summarizer.pkl','rb'))"
   ]
  },
  {
   "cell_type": "code",
   "execution_count": 36,
   "id": "18851871",
   "metadata": {},
   "outputs": [
    {
     "data": {
      "application/vnd.jupyter.widget-view+json": {
       "model_id": "2d5eb7ac2c884257a2e1a6ce65bff3e2",
       "version_major": 2,
       "version_minor": 0
      },
      "text/plain": [
       "Generating outputs:   0%|          | 0/1 [00:00<?, ?it/s]"
      ]
     },
     "metadata": {},
     "output_type": "display_data"
    }
   ],
   "source": [
    "txt_AB_summary = model.predict([df.iat[4,0]])"
   ]
  },
  {
   "cell_type": "code",
   "execution_count": 41,
   "id": "cbb41405",
   "metadata": {},
   "outputs": [],
   "source": [
    "txt_AB_summary = txt_AB_summary[0]"
   ]
  },
  {
   "cell_type": "code",
   "execution_count": 42,
   "id": "b5f81c55",
   "metadata": {},
   "outputs": [
    {
     "name": "stdout",
     "output_type": "stream",
     "text": [
      "BLEU score for test-> 2.405238241414534e-155\n"
     ]
    },
    {
     "name": "stderr",
     "output_type": "stream",
     "text": [
      "UserWarning: \n",
      "The hypothesis contains 0 counts of 3-gram overlaps.\n",
      "Therefore the BLEU score evaluates to 0, independently of\n",
      "how many N-gram overlaps of lower order it contains.\n",
      "Consider using lower n-gram order or use SmoothingFunction() [bleu_score.py:516]\n",
      "UserWarning: \n",
      "The hypothesis contains 0 counts of 4-gram overlaps.\n",
      "Therefore the BLEU score evaluates to 0, independently of\n",
      "how many N-gram overlaps of lower order it contains.\n",
      "Consider using lower n-gram order or use SmoothingFunction() [bleu_score.py:516]\n"
     ]
    }
   ],
   "source": [
    "ref = [df.iat[4,1].split()]\n",
    "test = txt_AB_summary.split()\n",
    "print('BLEU score for test-> {}'.format(sentence_bleu(ref, test)))"
   ]
  },
  {
   "cell_type": "markdown",
   "id": "aeff394a",
   "metadata": {},
   "source": [
    "### Abstractive Summerizer (transformers' pretrained pipeline )"
   ]
  },
  {
   "cell_type": "code",
   "execution_count": 37,
   "id": "ff1a53c8",
   "metadata": {},
   "outputs": [],
   "source": [
    "from transformers import pipeline"
   ]
  },
  {
   "cell_type": "code",
   "execution_count": 38,
   "id": "71e722a2",
   "metadata": {},
   "outputs": [
    {
     "name": "stderr",
     "output_type": "stream",
     "text": [
      "No model was supplied, defaulted to sshleifer/distilbart-cnn-12-6 (https://huggingface.co/sshleifer/distilbart-cnn-12-6)\n"
     ]
    },
    {
     "data": {
      "application/vnd.jupyter.widget-view+json": {
       "model_id": "1f3d0b7bc3e64e14bf639694ac4e0b62",
       "version_major": 2,
       "version_minor": 0
      },
      "text/plain": [
       "Downloading:   0%|          | 0.00/1.76k [00:00<?, ?B/s]"
      ]
     },
     "metadata": {},
     "output_type": "display_data"
    },
    {
     "data": {
      "application/vnd.jupyter.widget-view+json": {
       "model_id": "127475ef2e7543f3b7e35495d62eafa8",
       "version_major": 2,
       "version_minor": 0
      },
      "text/plain": [
       "Downloading:   0%|          | 0.00/1.14G [00:00<?, ?B/s]"
      ]
     },
     "metadata": {},
     "output_type": "display_data"
    },
    {
     "data": {
      "application/vnd.jupyter.widget-view+json": {
       "model_id": "38693e3ba8c644d9b854242ac4087cf4",
       "version_major": 2,
       "version_minor": 0
      },
      "text/plain": [
       "Downloading:   0%|          | 0.00/26.0 [00:00<?, ?B/s]"
      ]
     },
     "metadata": {},
     "output_type": "display_data"
    },
    {
     "data": {
      "application/vnd.jupyter.widget-view+json": {
       "model_id": "3d96547c440f4021bd429d15e45e658c",
       "version_major": 2,
       "version_minor": 0
      },
      "text/plain": [
       "Downloading:   0%|          | 0.00/878k [00:00<?, ?B/s]"
      ]
     },
     "metadata": {},
     "output_type": "display_data"
    },
    {
     "data": {
      "application/vnd.jupyter.widget-view+json": {
       "model_id": "227d87e9fee74419bf2edede7efde69d",
       "version_major": 2,
       "version_minor": 0
      },
      "text/plain": [
       "Downloading:   0%|          | 0.00/446k [00:00<?, ?B/s]"
      ]
     },
     "metadata": {},
     "output_type": "display_data"
    }
   ],
   "source": [
    "summarizer = pipeline(\"summarization\")"
   ]
  },
  {
   "cell_type": "code",
   "execution_count": 98,
   "id": "d1c3b581",
   "metadata": {},
   "outputs": [],
   "source": [
    "ARTICLE = df.iat[4,0][:5000]"
   ]
  },
  {
   "cell_type": "code",
   "execution_count": 75,
   "id": "cfd9918d",
   "metadata": {},
   "outputs": [
    {
     "data": {
      "text/plain": [
       "[{'summary_text': ' The Boys is an American superhero television series based on the comic book of the same name . The series stars Karl Urban, Jack Quaid, Laz Alonso, Tomer Capone, and Karen Fukuhara as the vigilantes . The first season premiered on July 26, 2019 . It was renewed for a third season in July 2020, which was released in June 2022 .'}]"
      ]
     },
     "execution_count": 75,
     "metadata": {},
     "output_type": "execute_result"
    }
   ],
   "source": [
    "summarizer(hgg, max_length=130, min_length=30, do_sample=False)"
   ]
  },
  {
   "cell_type": "code",
   "execution_count": 97,
   "id": "622cdec2",
   "metadata": {},
   "outputs": [
    {
     "data": {
      "text/plain": [
       "\"INTRODUCTIONElectromagnetic brakes have been used as supplementary retardation equipment in addition to the regular friction brakes on heavy vehicles. The principle of braking in road vehicles involves the conversion of kinetic energy into thermal energy (heat). When stepping on the brakes, the driver commands a stopping force several times as powerful as the force that puts the car in motion and dissipates the associated kinetic energy as heat. Brakes must be able to arrest the speed of a vehicle in a short period of time regardless how fast the speed is. As a result, the brakes are required to have the ability to generating high torque and absorbing energy at extremely high rates for short periods of time. Brakes may be applied for a prolonged period of time in some applications such as a heavy vehicle descending a long gradient at high speed. Brakes must have the mechanism to keep the heat absorption capability for prolonged periods of time. In the electromagnetic brake, the coil or solenoid attracts a steel disc. The steel disc presses a brake disc made of sintered or asbestos material between itself and a stationary steel disc. The torque is thus 'grounded' and braking action takes place. This type of brake is used in machines like lathes, presses etc.In electro-magnetic braking system electro-magnetic property is used due to this action of braking will be done. In this system, electromagnet iron plate, liners, tension spring, stud, disc brake plate are used. The brake liners are attached with electro-magnet and iron plate individually and both plates insert the disc plate and this plate rigidly attached with wheels. The battery of minimum 12 volt is used for external power supply. Electromagnet consists of wire wound over a soft iron core. When current is passed through the coil, it produces a magnetic field which magnetizes the core into the bar magnet with the polarities. Strong magnetic field is obtained by high currents of large self-induction. High currents are not always feasible, which is why a high self-induction is obtained by making a loop of wire in the shape of a coil, a so-called solenoid. More current and more turns produce a stronger magnetic field which results in stronger electromagnet. When current is switched OFF field disappears and the iron core no longer a magnet. This ability of an electromagnet provides a strong magnetic force of attraction. Shape geometry and material used in construction of electromagnet decide the shape and strength of magnetic field produced by it. A brake is a device which inhibits motion. Its opposite component is a clutch. Most commonly brakes use friction to convert kinetic energy into heat, though other methods of energy conversion may be employed. For example, regenerative braking converts much of the energy to electrical energy, which may be stored for later use. The brakes are different to use in stopped the reciprocating parts and motion automobile vehicles. The automobile industry is also developed new braking system like to drum brake, disc brake, hydraulic brake, pneumatic brake, air brake and electromagnetic brake. The different brakes are working on different principle operation (1-4). The main principle of electromagnetic brake to induced kinetic energy into heat energy and this type brake mainly working principle is one rotating metal disc in between the two magnets to apply the brake to induced electric current in circuit to induced magnetic field in armature to attract the magnet to the rotating metal disc and stopped the rotation in several time while applied brake. When certain amount of current is passed through a round conductor then it produces magnetic field which is uniform all over the conductor. The magnetic field strength depends on the current flowing 0through conductor and the no of turns and higher the current flowing through conductor higher the magnetic field gets created. Solenoid is the coil having more no of turns and it is used to produce high strength magnetic field which is used in this Electromagnetic Braking. The main objective of our project is to design and enhance an Electromagnetic Braking in automobiles. Besides the main objective, following are our secondary objectives:  (IRJET)e-ISSN: 2395-0056Volume: 07 Issue: 12 | Dec 2020www.irjet.netp-ISSN: 2395-0072© 2020, IRJET|Impact Factor value: 7.529|ISO 9001:2008 Certified Journal| 1. To understand project planning and execution. 2. To understand the fabrication techniques in a mechanical workshop. 3. To understand the usage of various mechanical machine tools and also measuring tools. 4. To make day to day human life easier by proper use of technology. 2. METHODOLGOYThe electromagnetic brake is a relatively primitive mechanism, yet it employs complex electromagnetic and thermal phenomena. As a result, the calculation of brake torque is a complex task. The case study of electromagnetic brake is done, and literature survey has been studied. Aluminium and Copper are t\""
      ]
     },
     "execution_count": 97,
     "metadata": {},
     "output_type": "execute_result"
    }
   ],
   "source": [
    "df.iat[4,0][:5000]"
   ]
  }
 ],
 "metadata": {
  "kernelspec": {
   "display_name": "Python 3",
   "language": "python",
   "name": "python3"
  },
  "language_info": {
   "codemirror_mode": {
    "name": "ipython",
    "version": 3
   },
   "file_extension": ".py",
   "mimetype": "text/x-python",
   "name": "python",
   "nbconvert_exporter": "python",
   "pygments_lexer": "ipython3",
   "version": "3.8.8"
  }
 },
 "nbformat": 4,
 "nbformat_minor": 5
}
